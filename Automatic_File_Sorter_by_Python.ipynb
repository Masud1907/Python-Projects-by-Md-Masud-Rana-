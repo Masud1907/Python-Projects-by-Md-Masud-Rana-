{
 "cells": [
  {
   "cell_type": "markdown",
   "id": "aca70d6f-0503-458b-aa3a-9e417c1112a8",
   "metadata": {},
   "source": [
    "# Automatic File Sorter by Python"
   ]
  },
  {
   "cell_type": "code",
   "execution_count": 59,
   "id": "4aae7b6d-3dfb-4e5a-8c4c-e32a03fb9e61",
   "metadata": {},
   "outputs": [],
   "source": [
    "import os"
   ]
  },
  {
   "cell_type": "code",
   "execution_count": 60,
   "id": "944a46da-1aae-4bb6-be21-e9e94f207947",
   "metadata": {},
   "outputs": [],
   "source": [
    "import shutil"
   ]
  },
  {
   "cell_type": "code",
   "execution_count": 61,
   "id": "934b9784-f9da-4f2a-9c39-16492bcdc6d5",
   "metadata": {},
   "outputs": [],
   "source": [
    "# Set the path to the directory you want to sort\n",
    "path= r\"G:/Practice My Skills/Excel with Alex/Python/Phyton Projects/2nd Project/\""
   ]
  },
  {
   "cell_type": "code",
   "execution_count": 62,
   "id": "a8f17e8f-fedb-4f9e-b666-cde8f4095d3b",
   "metadata": {},
   "outputs": [],
   "source": [
    "# List all files in the directory\n",
    "file_name= os.listdir(path)"
   ]
  },
  {
   "cell_type": "code",
   "execution_count": 63,
   "id": "28f03d4b-13cc-46e9-8fb1-9d50457ca85e",
   "metadata": {},
   "outputs": [],
   "source": [
    "# define folder name based on file types\n",
    "folder_name= ['xlsx files', 'sql files', 'pdf files']"
   ]
  },
  {
   "cell_type": "code",
   "execution_count": 64,
   "id": "d4923a60-5aeb-411f-bb8d-67a79b407b78",
   "metadata": {},
   "outputs": [],
   "source": [
    "# Create folder if they do not exist\n",
    "for loop in range (0,3):\n",
    "    if not os.path.exists(path + folder_name[loop]):\n",
    "        os.makedirs(path + folder_name[loop])"
   ]
  },
  {
   "cell_type": "code",
   "execution_count": 65,
   "id": "432f9a2a-a1e3-4c71-bb47-a219d7392b5d",
   "metadata": {},
   "outputs": [],
   "source": [
    "# Move files to respective folders\n",
    "for file in file_name:\n",
    "    if \".xlsx\" in file and not os.path.exists(path + \"xlsx files/\" + file):\n",
    "        shutil.move(path + file, path + \"xlsx files/\" + file)\n",
    "    if \".sql\" in file and not os.path.exists(path + \"sql files/\" + file):\n",
    "        shutil.move(path + file, path + \"sql files/\" + file)\n",
    "    if \".pdf\" in file and not os.path.exists(path + \"pdf files/\" + file):\n",
    "        shutil.move(path + file, path + \"pdf files/\" + file)"
   ]
  },
  {
   "cell_type": "code",
   "execution_count": null,
   "id": "d9d6c3cf-4ca3-44ee-ba4c-17415a5baa6a",
   "metadata": {},
   "outputs": [],
   "source": []
  },
  {
   "cell_type": "code",
   "execution_count": null,
   "id": "f39a9b0d-ec37-48b5-a403-cbb399a7082f",
   "metadata": {},
   "outputs": [],
   "source": []
  }
 ],
 "metadata": {
  "kernelspec": {
   "display_name": "Python 3 (ipykernel)",
   "language": "python",
   "name": "python3"
  },
  "language_info": {
   "codemirror_mode": {
    "name": "ipython",
    "version": 3
   },
   "file_extension": ".py",
   "mimetype": "text/x-python",
   "name": "python",
   "nbconvert_exporter": "python",
   "pygments_lexer": "ipython3",
   "version": "3.11.7"
  }
 },
 "nbformat": 4,
 "nbformat_minor": 5
}
